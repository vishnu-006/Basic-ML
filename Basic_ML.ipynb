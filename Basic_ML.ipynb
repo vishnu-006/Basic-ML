{
  "nbformat": 4,
  "nbformat_minor": 0,
  "metadata": {
    "colab": {
      "name": "Basic ML",
      "provenance": [],
      "collapsed_sections": [],
      "authorship_tag": "ABX9TyPPoWr3eEmvUKfOdSraEinV",
      "include_colab_link": true
    },
    "kernelspec": {
      "name": "python3",
      "display_name": "Python 3"
    },
    "language_info": {
      "name": "python"
    }
  },
  "cells": [
    {
      "cell_type": "markdown",
      "metadata": {
        "id": "view-in-github",
        "colab_type": "text"
      },
      "source": [
        "<a href=\"https://colab.research.google.com/github/vishnu-006/Basic-ML/blob/main/Basic_ML.ipynb\" target=\"_parent\"><img src=\"https://colab.research.google.com/assets/colab-badge.svg\" alt=\"Open In Colab\"/></a>"
      ]
    },
    {
      "cell_type": "code",
      "metadata": {
        "id": "CnA5fpbBzg2S"
      },
      "source": [
        ""
      ],
      "execution_count": null,
      "outputs": []
    },
    {
      "cell_type": "markdown",
      "metadata": {
        "id": "NZa9NTYfz3CD"
      },
      "source": [
        "SAMPLE PYTHON PROGRAMS"
      ]
    },
    {
      "cell_type": "code",
      "metadata": {
        "colab": {
          "base_uri": "https://localhost:8080/"
        },
        "id": "7Bz6UGFpz_ya",
        "outputId": "09724c8b-bf6b-4ef5-dfb1-50b5a2581996"
      },
      "source": [
        "#Addition of two numberes\n",
        "num1=int(input())\n",
        "num2=int(input())\n",
        "sum=num1+num2\n",
        "print(\"sum of the given two numbers is:\",sum)"
      ],
      "execution_count": 1,
      "outputs": [
        {
          "output_type": "stream",
          "text": [
            "5\n",
            "6\n",
            "sum of the given two numbers is: 11\n"
          ],
          "name": "stdout"
        }
      ]
    },
    {
      "cell_type": "markdown",
      "metadata": {
        "id": "lDPtnM9V0gYg"
      },
      "source": [
        "2)square of the givn number"
      ]
    },
    {
      "cell_type": "code",
      "metadata": {
        "colab": {
          "base_uri": "https://localhost:8080/"
        },
        "id": "sBIVlMAA0tSq",
        "outputId": "98eef482-95e4-4435-8316-2185fc7fca77"
      },
      "source": [
        "num=int(input())\n",
        "square=num*num\n",
        "print(\"square of the given number is:\",square)"
      ],
      "execution_count": 2,
      "outputs": [
        {
          "output_type": "stream",
          "text": [
            "9\n",
            "square of the given number is: 81\n"
          ],
          "name": "stdout"
        }
      ]
    },
    {
      "cell_type": "markdown",
      "metadata": {
        "id": "o-a5pMna1AkG"
      },
      "source": [
        "3)factorial of a number"
      ]
    },
    {
      "cell_type": "code",
      "metadata": {
        "colab": {
          "base_uri": "https://localhost:8080/"
        },
        "id": "cScDbu771K-r",
        "outputId": "34ede335-e66a-4941-9198-ef57b5f1601d"
      },
      "source": [
        "num=int(input())\n",
        "fact=1\n",
        "for i in range(1,num+1):\n",
        "  fact*=i\n",
        "print(\"Factorial of the given number is:\",fact)"
      ],
      "execution_count": 5,
      "outputs": [
        {
          "output_type": "stream",
          "text": [
            "5\n",
            "Factorial of the given number is: 120\n"
          ],
          "name": "stdout"
        }
      ]
    },
    {
      "cell_type": "markdown",
      "metadata": {
        "id": "oze5o5YOzmT7"
      },
      "source": [
        ""
      ]
    }
  ]
}